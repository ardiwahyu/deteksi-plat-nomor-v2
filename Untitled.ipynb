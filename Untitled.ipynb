{
 "cells": [
  {
   "cell_type": "code",
   "execution_count": 3,
   "id": "5bc58bb1",
   "metadata": {},
   "outputs": [],
   "source": [
    "from pathlib import Path\n",
    "import cv2"
   ]
  },
  {
   "cell_type": "code",
   "execution_count": 9,
   "id": "6bc43b3e",
   "metadata": {},
   "outputs": [
    {
     "name": "stdout",
     "output_type": "stream",
     "text": [
      "['/home/bms-del083/Pictures/train_data_plat/images/val/tes4350.jpg', '/home/bms-del083/Pictures/train_data_plat/images/val/tes11311.jpg', '/home/bms-del083/Pictures/train_data_plat/images/val/tes8411.jpg', '/home/bms-del083/Pictures/train_data_plat/images/val/tes8991.jpg', '/home/bms-del083/Pictures/train_data_plat/images/val/tes2032.jpg', '/home/bms-del083/Pictures/train_data_plat/images/val/tes13921.jpg', '/home/bms-del083/Pictures/train_data_plat/images/val/tes15950.jpg', '/home/bms-del083/Pictures/train_data_plat/images/val/tes11600.jpg', '/home/bms-del083/Pictures/train_data_plat/images/val/tes292.jpg', '/home/bms-del083/Pictures/train_data_plat/images/val/tes4640.jpg', '/home/bms-del083/Pictures/train_data_plat/images/val/tes6670.jpg', '/home/bms-del083/Pictures/train_data_plat/images/val/tes5801.jpg', '/home/bms-del083/Pictures/train_data_plat/images/val/tes8992.jpg', '/home/bms-del083/Pictures/train_data_plat/images/val/tes14792.jpg']\n"
     ]
    }
   ],
   "source": [
    "corwara_dir = \"/home/bms-del083/Pictures/train_data_plat/images/val/\"\n",
    "path = Path(corwara_dir).glob(\"**/*.jpg\")\n",
    "wavs = [str(wavf) for wavf in path if wavf.is_file()]\n",
    "print(wavs)"
   ]
  },
  {
   "cell_type": "code",
   "execution_count": 10,
   "id": "f254c8ac",
   "metadata": {},
   "outputs": [],
   "source": [
    "for jpg in wavs:\n",
    "    image = cv2.imread(jpg)\n",
    "    gray_image = cv2.cvtColor(image, cv2.COLOR_BGR2GRAY)\n",
    "    cv2.imwrite(jpg, gray_image)"
   ]
  }
 ],
 "metadata": {
  "kernelspec": {
   "display_name": "Python 3 (ipykernel)",
   "language": "python",
   "name": "python3"
  },
  "language_info": {
   "codemirror_mode": {
    "name": "ipython",
    "version": 3
   },
   "file_extension": ".py",
   "mimetype": "text/x-python",
   "name": "python",
   "nbconvert_exporter": "python",
   "pygments_lexer": "ipython3",
   "version": "3.9.12"
  }
 },
 "nbformat": 4,
 "nbformat_minor": 5
}
