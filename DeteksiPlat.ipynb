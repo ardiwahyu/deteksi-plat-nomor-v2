{
 "cells": [
  {
   "cell_type": "code",
   "execution_count": 1,
   "id": "b61e42c0",
   "metadata": {},
   "outputs": [],
   "source": [
    "import cv2\n",
    "from tkinter import Tk\n",
    "from tkinter.filedialog import askopenfilename\n",
    "from detect import run_detection\n",
    "from pathlib import Path\n",
    "from yolov5.models.common import DetectMultiBackend\n",
    "import sys\n",
    "import os\n",
    "from yolov5.utils.torch_utils import select_device\n",
    "import numpy as np\n",
    "\n",
    "import warnings\n",
    "warnings.filterwarnings(\"ignore\")"
   ]
  },
  {
   "cell_type": "code",
   "execution_count": 9,
   "id": "9317d656",
   "metadata": {},
   "outputs": [
    {
     "name": "stdout",
     "output_type": "stream",
     "text": [
      "/home/bms-del083/Documents/PythonScript/Deteksi_Plat/data/MVI_8993.MOV\n"
     ]
    }
   ],
   "source": [
    "root = Tk()\n",
    "root.withdraw()\n",
    "filepath = askopenfilename()\n",
    "print(filepath)"
   ]
  },
  {
   "cell_type": "code",
   "execution_count": 3,
   "id": "98c828fb",
   "metadata": {},
   "outputs": [],
   "source": [
    "def imshow(img,window_name='image',key=0):\n",
    "    cv2.imshow(window_name,img)\n",
    "    cv2.waitKey(key)\n",
    "    cv2.destroyAllWindows()"
   ]
  },
  {
   "cell_type": "code",
   "execution_count": 4,
   "id": "2f811e2c",
   "metadata": {},
   "outputs": [],
   "source": [
    "def prepare(jenis):\n",
    "    ROOT = 'yolov5'\n",
    "    if str(ROOT) not in sys.path:\n",
    "        sys.path.append(str(ROOT))\n",
    "    ROOT = Path(os.path.relpath(ROOT, Path.cwd()))\n",
    "    device = select_device('')\n",
    "    path_weight = 'config/motor.pt'\n",
    "    path_title = 'config/data_motor.yaml'\n",
    "    if jenis == 'plat':\n",
    "        path_weight = 'config/plat.pt'\n",
    "        path_title = 'config/data_plat.yaml'\n",
    "    return DetectMultiBackend(path_weight, device=device, dnn=False, data=path_title, fp16=False)"
   ]
  },
  {
   "cell_type": "code",
   "execution_count": 5,
   "id": "a606fcb5",
   "metadata": {},
   "outputs": [
    {
     "name": "stderr",
     "output_type": "stream",
     "text": [
      "YOLOv5 🚀 2023-1-25 Python-3.9.12 torch-1.13.1+cu117 CPU\n",
      "\n",
      "Fusing layers... \n",
      "Model summary: 214 layers, 7022326 parameters, 0 gradients, 15.9 GFLOPs\n",
      "YOLOv5 🚀 2023-1-25 Python-3.9.12 torch-1.13.1+cu117 CPU\n",
      "\n",
      "Fusing layers... \n",
      "Model summary: 214 layers, 7022326 parameters, 0 gradients, 15.9 GFLOPs\n"
     ]
    }
   ],
   "source": [
    "model_motor = prepare('motor')\n",
    "model_plat = prepare('plat')"
   ]
  },
  {
   "cell_type": "code",
   "execution_count": 6,
   "id": "3f819b53",
   "metadata": {},
   "outputs": [],
   "source": [
    "def boundedFrame(img,x,y,width,height):\n",
    "    cv2.rectangle(img, (x, y), (x+width, y+height), (0, 0, 255), 2)\n",
    "    submat = img[y:y+height, x:x+width]\n",
    "    return submat, img"
   ]
  },
  {
   "cell_type": "code",
   "execution_count": 8,
   "id": "0d55e960",
   "metadata": {},
   "outputs": [],
   "source": [
    "def detectHarris(m):\n",
    "    gray = cv2.cvtColor(m, cv2.COLOR_BGR2GRAY)\n",
    "    dst = cv2.cornerHarris(gray, blockSize=2, ksize=3, k=0.04)\n",
    "    dst_norm = np.zeros(dst.shape, dtype=np.float32)\n",
    "    return_mat = np.zeros(dst.shape, dtype=np.float32)\n",
    "    cv2.normalize(dst, dst_norm, alpha=0, beta=255, norm_type=cv2.NORM_MINMAX)\n",
    "    dst_norm_scaled = cv2.convertScaleAbs(dst_norm)\n",
    "    for i in range(dst_norm.shape[0]):\n",
    "        for j in range(dst_norm.shape[1]):\n",
    "            if int(dst_norm[i,j]) > 150:\n",
    "                cv2.circle(return_mat, (j,i), 5, (255,255,255), 2)\n",
    "    return return_mat"
   ]
  },
  {
   "cell_type": "code",
   "execution_count": 9,
   "id": "23ffaf65",
   "metadata": {},
   "outputs": [],
   "source": [
    "def detectMSER(img):\n",
    "    gray = cv2.cvtColor(img, cv2.COLOR_BGR2GRAY)\n",
    "    mser = cv2.MSER_create()\n",
    "    regions, _ = mser.detectRegions(gray)\n",
    "#     for contour in regions:\n",
    "#         x, y, w, h = cv2.boundingRect(contour)\n",
    "#         cv2.rectangle(img, (x, y), (x+w, y+h), (0, 255, 0), 2)\n",
    "    text_regions = []\n",
    "    for contour in regions:\n",
    "        x, y, w, h = cv2.boundingRect(contour)\n",
    "        text_regions.append((x,y,w,h))\n",
    "#         text_regions.append(img[y:y+h, x:x+w])\n",
    "    return text_regions"
   ]
  },
  {
   "cell_type": "code",
   "execution_count": 10,
   "id": "7efd19a0",
   "metadata": {},
   "outputs": [],
   "source": [
    "def find_max_area_contour(contours):\n",
    "    max_area = 0\n",
    "    max_area_index = 0\n",
    "    for i, contour in enumerate(contours):\n",
    "        area = cv2.contourArea(contour)\n",
    "        if area > max_area:\n",
    "            max_area = area\n",
    "            max_area_index = i\n",
    "    return max_area_index\n",
    "\n",
    "def find_max_area_rect(rects):\n",
    "    max_area = 0\n",
    "    max_area_index = 0\n",
    "    for i, rect in enumerate(rects):\n",
    "        area = rect[2]*rect[3]\n",
    "        if area > max_area:\n",
    "            max_area = area\n",
    "            max_area_index = i\n",
    "    return max_area_index"
   ]
  },
  {
   "cell_type": "code",
   "execution_count": 24,
   "id": "b652b3eb",
   "metadata": {},
   "outputs": [],
   "source": [
    "def compareHarrisWithMSER(m):\n",
    "    harris = detectHarris(m)\n",
    "    mser = detectMSER(m)\n",
    "    harris = harris.astype(np.uint8)\n",
    "    contours, hierarchy = cv2.findContours(harris, cv2.RETR_EXTERNAL, cv2.CHAIN_APPROX_SIMPLE)\n",
    "    if len(contours) > 0:\n",
    "        r = cv2.boundingRect(contours[find_max_area_contour(contours)])\n",
    "        kandidat_plat = []\n",
    "        for region in mser :\n",
    "            if (checkIsOverlaps(r, region)) :\n",
    "                kandidat_plat.append(region)\n",
    "        rect_plat = pilihPlat(kandidat_plat)\n",
    "        if rect_plat != None:\n",
    "            plat,m = boundedFrame(m,rect_plat[0],rect_plat[1],rect_plat[2],rect_plat[3])\n",
    "            imshow(m)\n",
    "            return m,plat\n",
    "    return m,None"
   ]
  },
  {
   "cell_type": "code",
   "execution_count": 12,
   "id": "ff23b069",
   "metadata": {},
   "outputs": [],
   "source": [
    "def pilihPlat(rects, toleransi = 0.5) :\n",
    "    rasio_standart = 250/105 # rasio plat indonesia 250mm x 105mm\n",
    "    rect_sesuai_rasio = []\n",
    "    selisih_rasio = []\n",
    "    for rect in rects:\n",
    "        rasio = rect[2]/rect[3]\n",
    "        selisih = abs(rasio-rasio_standart)\n",
    "        if (selisih < toleransi):\n",
    "            rect_sesuai_rasio.append(rect)\n",
    "            selisih_rasio.append(selisih)\n",
    "    plat_terpilih = None\n",
    "    if len(rect_sesuai_rasio) > 0 :\n",
    "        plat_terpilih = rect_sesuai_rasio[np.argmin(selisih_rasio)]\n",
    "    return plat_terpilih"
   ]
  },
  {
   "cell_type": "code",
   "execution_count": 13,
   "id": "26659f44",
   "metadata": {},
   "outputs": [],
   "source": [
    "def checkIsOverlaps(rect1,rect2):\n",
    "    x_overlap = max(0, min(int(rect1[0]) + int(rect1[2]), int(rect2[0]) + int(rect2[2])) - max(int(rect1[0]), int(rect2[0])))\n",
    "    y_overlap = max(0, min(int(rect1[1]) + int(rect1[3]), int(rect2[1]) + int(rect2[3])) - max(int(rect1[1]), int(rect2[1])))\n",
    "    overlap_area = x_overlap * y_overlap\n",
    "    if overlap_area > 0:\n",
    "        return True\n",
    "    else:\n",
    "        return False"
   ]
  },
  {
   "cell_type": "code",
   "execution_count": 37,
   "id": "77567e20",
   "metadata": {},
   "outputs": [],
   "source": [
    "def detection(frame,x,y,width,height):\n",
    "    frame_asli = frame\n",
    "    frame_roi,frame = boundedFrame(frame,x,y,width,height)\n",
    "    path_roi = 'data/motor_detect.jpg'\n",
    "    cv2.imwrite(path_roi, frame_roi)\n",
    "    arr_loc_motor, frame_roi = run_detection(model_motor,path_roi,3)\n",
    "    for loc in arr_loc_motor:\n",
    "        object_asli = frame_asli[y+int(loc[1]):y+int(loc[3]), x+int(loc[0]):x+int(loc[2])]\n",
    "        object_motor = frame_roi[int(loc[1]):int(loc[3]), int(loc[0]):int(loc[2])]\n",
    "        path_object = 'data/plat_detect.jpg'\n",
    "        cv2.imwrite(path_object,object_motor)\n",
    "        loc_plat, object_plat = run_detection(model_plat,path_object,2)\n",
    "#         for loc2 in loc_plat:\n",
    "#             plat = object_asli[int(loc2[1]):int(loc2[3]), int(loc2[0]):int(loc2[2])]\n",
    "            \n",
    "#             y_top = y+int(loc[1])\n",
    "#             x_top = x+int(loc[0])\n",
    "#             resized_plat = cv2.resize(plat, (0, 0), fx=2, fy=2, interpolation=cv2.INTER_CUBIC)\n",
    "#             frame[y_top:y_top+resized_plat.shape[0], x_top:x_top+resized_plat.shape[1]] = resized_plat\n",
    "        frame_roi[int(loc[1]):int(loc[3]), int(loc[0]):int(loc[2])] = object_plat\n",
    "    frame[y:y+height, x:x+width] = frame_roi\n",
    "    return frame"
   ]
  },
  {
   "cell_type": "code",
   "execution_count": 38,
   "id": "f24c6694",
   "metadata": {
    "scrolled": false
   },
   "outputs": [],
   "source": [
    "cap = cv2.VideoCapture(filepath)\n",
    "if not cap.isOpened():\n",
    "    print(\"Error opening video file\")\n",
    "idx = 0\n",
    "while True:\n",
    "    ret, frame = cap.read()\n",
    "    if not ret:\n",
    "        print(\"Video ended or error occurred\")\n",
    "        break\n",
    "    frame_width = int(cap.get(cv2.CAP_PROP_FRAME_WIDTH))\n",
    "    frame_height = int(cap.get(cv2.CAP_PROP_FRAME_HEIGHT))\n",
    "    fps = int(cap.get(cv2.CAP_PROP_FPS))\n",
    "    if (idx%(int(fps/4)) == 0) :\n",
    "        cv2.namedWindow(\"Video\", cv2.WINDOW_NORMAL)\n",
    "        cv2.resizeWindow(\"Video\", int((frame_width/frame_height)*700), 700)\n",
    "        frame = detection(frame,100,550,1728,512)\n",
    "        cv2.imshow(\"Video\", frame)\n",
    "    idx += 1\n",
    "    key = cv2.waitKey(int(fps/8))\n",
    "    if key == 27:\n",
    "        break\n",
    "cap.release()\n",
    "cv2.destroyAllWindows()"
   ]
  },
  {
   "cell_type": "code",
   "execution_count": 40,
   "id": "f0673b42",
   "metadata": {},
   "outputs": [
    {
     "name": "stdout",
     "output_type": "stream",
     "text": [
      "(2, 2, 3)\n",
      "[[2, 3, 4], [3, 4, 6]]\n"
     ]
    }
   ],
   "source": [
    "arr = [[[2,3,4],[3,4,6]],[[2,3,4],[3,4,6]]]\n",
    "print(np.array(arr).shape)\n",
    "first_value = arr[:][:][0][:]\n",
    "print(first_value)"
   ]
  },
  {
   "cell_type": "code",
   "execution_count": 12,
   "id": "9dafcd31",
   "metadata": {},
   "outputs": [],
   "source": [
    "img = cv2.imread('data/plat_detect.jpg')\n",
    "a = img[115:197, 117:293]\n",
    "imshow(a)"
   ]
  },
  {
   "cell_type": "code",
   "execution_count": 11,
   "id": "a779e376",
   "metadata": {},
   "outputs": [
    {
     "name": "stdout",
     "output_type": "stream",
     "text": [
      "[[tensor(0.), tensor(194.), tensor(165.), tensor(283.)]]\n"
     ]
    }
   ],
   "source": [
    "arr, object_mat = run_detection(model_plat,'/home/bms-del083/Pictures/train_data_plat/images/train/tes14791.jpg')\n",
    "print(arr)\n",
    "imshow(object_mat)"
   ]
  },
  {
   "cell_type": "code",
   "execution_count": 16,
   "id": "d7774410",
   "metadata": {},
   "outputs": [],
   "source": [
    "# def oldMSER(m):\n",
    "#     gray = cv2.cvtColor(m, cv2.COLOR_BGR2GRAY)\n",
    "#     mser = cv2.MSER_create(delta=3, min_area=10, max_area=100)\n",
    "#     regions, _ = mser.detectRegions(gray)\n",
    "#     return_mat = np.zeros(gray.shape, dtype=np.float32)\n",
    "#     for region in regions:\n",
    "#         hull = cv2.convexHull(region.reshape(-1, 1, 2))\n",
    "#         cv2.polylines(return_mat, [hull], True, (255, 255, 255), 2)\n",
    "#     return return_mat"
   ]
  }
 ],
 "metadata": {
  "kernelspec": {
   "display_name": "Python 3 (ipykernel)",
   "language": "python",
   "name": "python3"
  },
  "language_info": {
   "codemirror_mode": {
    "name": "ipython",
    "version": 3
   },
   "file_extension": ".py",
   "mimetype": "text/x-python",
   "name": "python",
   "nbconvert_exporter": "python",
   "pygments_lexer": "ipython3",
   "version": "3.9.12"
  }
 },
 "nbformat": 4,
 "nbformat_minor": 5
}
